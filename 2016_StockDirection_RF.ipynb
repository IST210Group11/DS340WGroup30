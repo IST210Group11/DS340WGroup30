{
 "cells": [
  {
   "cell_type": "markdown",
   "metadata": {},
   "source": [
    "# Paper Reproduction\n",
    "## Khaidem, Luckyson, Snehanshu Saha, and Sudeepa Roy Dey. \"Predicting the direction of stock market prices using random forest.\" arXiv preprint arXiv:1605.00003 (2016). [paper](https://arxiv.org/abs/1605.00003)\n",
    "#### Original Source Code by [José Martínez Heras](https://www.linkedin.com/in/josemartinezheras/)\n",
    "#### Modifications made by Victor Suhendra and Rohan Pamidimukkla\n",
    "\n",
    "## Goal of the project\n",
    "Reproduce the results from the paper \"Predicting the direction of stock market prices using random forest.\""
   ]
  },
  {
   "cell_type": "markdown",
   "metadata": {},
   "source": [
    "## Import Libraries"
   ]
  },
  {
   "cell_type": "code",
   "execution_count": 1,
   "metadata": {},
   "outputs": [],
   "source": [
    "%matplotlib inline\n",
    "import matplotlib.pyplot as plt\n",
    "\n",
    "# Make the default figures a bit bigger\n",
    "plt.rcParams['figure.figsize'] = (7,4.5) \n",
    "\n",
    "import numpy as np\n",
    "import random\n",
    "\n",
    "\n",
    "#https://github.com/Crypto-toolbox/pandas-technical-indicators/blob/master/technical_indicators.py\n",
    "import pandas_techinal_indicators as ta \n",
    "\n",
    "import pandas as pd\n",
    "from sklearn.ensemble import RandomForestClassifier\n",
    "\n",
    "from sklearn.metrics import f1_score, precision_score, confusion_matrix, recall_score, accuracy_score\n",
    "from sklearn.model_selection import train_test_split"
   ]
  },
  {
   "cell_type": "code",
   "execution_count": 2,
   "metadata": {},
   "outputs": [],
   "source": [
    "def get_exp_preprocessing(df, alpha=0.9):\n",
    "    edata = df.ewm(alpha=alpha).mean()    \n",
    "    return edata\n",
    "\n",
    "def feature_extraction(data):\n",
    "    for x in [5, 14, 26, 44, 66]:\n",
    "        data = ta.relative_strength_index(data, n=x)\n",
    "        data = ta.stochastic_oscillator_d(data, n=x)\n",
    "        data = ta.accumulation_distribution(data, n=x)\n",
    "        data = ta.average_true_range(data, n=x)\n",
    "        data = ta.momentum(data, n=x)\n",
    "        data = ta.money_flow_index(data, n=x)\n",
    "        data = ta.rate_of_change(data, n=x)\n",
    "        data = ta.on_balance_volume(data, n=x)\n",
    "        data = ta.commodity_channel_index(data, n=x)\n",
    "        data = ta.ease_of_movement(data, n=x)\n",
    "        data = ta.trix(data, n=x)\n",
    "        data = ta.vortex_indicator(data, n=x)\n",
    "    \n",
    "    data['ema50'] = data['Close'] / data['Close'].ewm(50).mean()\n",
    "    data['ema21'] = data['Close'] / data['Close'].ewm(21).mean()\n",
    "    data['ema14'] = data['Close'] / data['Close'].ewm(14).mean()\n",
    "    data['ema5'] = data['Close'] / data['Close'].ewm(5).mean()\n",
    "        \n",
    "    #Williams %R is missing\n",
    "    data = ta.macd(data, n_fast=12, n_slow=26)\n",
    "    \n",
    "    del(data['Open'])\n",
    "    del(data['High'])\n",
    "    del(data['Low'])\n",
    "    del(data['Volume'])\n",
    "    \n",
    "    return data\n",
    "   \n",
    "def compute_prediction_int(df, n):\n",
    "    pred = (df.shift(-n)['Close'] >= df['Close'])\n",
    "    pred = pred.iloc[:-n]\n",
    "    return pred.astype(int)\n",
    "\n",
    "def prepare_data(df, horizon):\n",
    "    data = feature_extraction(df).dropna().iloc[:-horizon]\n",
    "    data['pred'] = compute_prediction_int(data, n=horizon)\n",
    "    del(data['Close'])\n",
    "    return data.dropna()"
   ]
  },
  {
   "cell_type": "code",
   "execution_count": 3,
   "metadata": {},
   "outputs": [],
   "source": [
    "def random_forest(data):\n",
    "    data = get_exp_preprocessing(data)\n",
    "    data = prepare_data(data, 10)\n",
    "    y = data['pred']\n",
    "    features = [x for x in data.columns if x not in ['gain', 'pred']]\n",
    "    X = data[features]\n",
    "    train_size = 2*len(X) // 3\n",
    "\n",
    "    X_train = X[:train_size]\n",
    "    X_test = X[train_size:]\n",
    "    y_train = y[:train_size]\n",
    "    y_test = y[train_size:]\n",
    "    \n",
    "    rf = RandomForestClassifier(n_jobs=-1, n_estimators=65)\n",
    "    rf.fit(X_train, y_train.values.ravel());\n",
    "    pred = rf.predict(X_test)\n",
    "    precision = precision_score(y_pred=pred, y_true=y_test)\n",
    "    recall = recall_score(y_pred=pred, y_true=y_test)\n",
    "    f1 = f1_score(y_pred=pred, y_true=y_test)\n",
    "    accuracy = accuracy_score(y_pred=pred, y_true=y_test)\n",
    "    confusion = confusion_matrix(y_pred=pred, y_true=y_test)\n",
    "    \n",
    "    return(precision, recall, f1, accuracy)\n",
    "    \n",
    "    \n",
    "def random_forest_leakage(data):\n",
    "    data = get_exp_preprocessing(data)\n",
    "    data = prepare_data(data, 10)\n",
    "    y = data['pred']\n",
    "    features = [x for x in data.columns if x not in ['gain', 'pred']]\n",
    "    X = data[features]\n",
    "\n",
    "    X_train, X_test, y_train, y_test = train_test_split(X, y, train_size = 2*len(X) // 3)\n",
    "    \n",
    "    rf = RandomForestClassifier(n_jobs=-1, n_estimators=65)\n",
    "    rf.fit(X_train, y_train.values.ravel());\n",
    "    pred = rf.predict(X_test)\n",
    "    precision = precision_score(y_pred=pred, y_true=y_test)\n",
    "    recall = recall_score(y_pred=pred, y_true=y_test)\n",
    "    f1 = f1_score(y_pred=pred, y_true=y_test)\n",
    "    accuracy = accuracy_score(y_pred=pred, y_true=y_test)\n",
    "    confusion = confusion_matrix(y_pred=pred, y_true=y_test)\n",
    "    \n",
    "    return(precision, recall, f1, accuracy)"
   ]
  },
  {
   "cell_type": "code",
   "execution_count": 4,
   "metadata": {},
   "outputs": [],
   "source": [
    "def normal_perturbation(data, param1, param2, binom_prob):\n",
    "    for i in range(data.shape[0]):\n",
    "        x =  np.random.normal(param1, param2)\n",
    "        if np.random.binomial(1,binom_prob) == 1:\n",
    "            for j in range(4):\n",
    "                data.iloc[i, j] = data.iloc[i, j] + x\n",
    "    return(data)\n",
    "\n",
    "def exponential_perturbation(data, param1, binom_prob):\n",
    "    for i in range(data.shape[0]):\n",
    "        x =  np.random.exponential(param1)\n",
    "        if np.random.binomial(1,binom_prob) == 1:\n",
    "            for j in range(4):\n",
    "                data.iloc[i, j] = data.iloc[i, j] + x\n",
    "    return(data)\n",
    "\n",
    "def uniform_perturbation(data, param1, param2, binom_prob):\n",
    "    for i in range(data.shape[0]):\n",
    "        x =  np.random.uniform(param1, param2)\n",
    "        if np.random.binomial(1,binom_prob) == 1:\n",
    "            for j in range(4):\n",
    "                data.iloc[i, j] = data.iloc[i, j] + x\n",
    "    return(data)"
   ]
  },
  {
   "cell_type": "code",
   "execution_count": 5,
   "metadata": {},
   "outputs": [
    {
     "data": {
      "text/plain": [
       "(0.6733870967741935,\n",
       " 0.5880281690140845,\n",
       " 0.6278195488721804,\n",
       " 0.5580357142857143)"
      ]
     },
     "execution_count": 5,
     "metadata": {},
     "output_type": "execute_result"
    }
   ],
   "source": [
    "aapl = pd.read_csv('AAPL.csv')\n",
    "del(aapl['Date'])\n",
    "del(aapl['Adj Close'])\n",
    "random_forest(aapl)\n",
    "#(precision, recall, f1, accuracy)"
   ]
  },
  {
   "cell_type": "code",
   "execution_count": 6,
   "metadata": {},
   "outputs": [
    {
     "data": {
      "text/plain": [
       "(0.8412698412698413,\n",
       " 0.9498207885304659,\n",
       " 0.8922558922558923,\n",
       " 0.8571428571428571)"
      ]
     },
     "execution_count": 6,
     "metadata": {},
     "output_type": "execute_result"
    }
   ],
   "source": [
    "aapl = pd.read_csv('AAPL.csv')\n",
    "del(aapl['Date'])\n",
    "del(aapl['Adj Close'])\n",
    "random_forest_leakage(aapl)\n",
    "#(precision, recall, f1, accuracy)"
   ]
  },
  {
   "cell_type": "code",
   "execution_count": 7,
   "metadata": {},
   "outputs": [
    {
     "name": "stdout",
     "output_type": "stream",
     "text": [
      "0.031249999999999955\n"
     ]
    },
    {
     "data": {
      "text/plain": [
       "0.0647321428571428"
      ]
     },
     "execution_count": 7,
     "metadata": {},
     "output_type": "execute_result"
    },
    {
     "data": {
      "image/png": "[encoded data removed]",
      "text/plain": [
       "<Figure size 504x324 with 1 Axes>"
      ]
     },
     "metadata": {
      "needs_background": "light"
     },
     "output_type": "display_data"
    }
   ],
   "source": [
    "aapl_normal = []\n",
    "aapl = pd.read_csv('AAPL.csv')\n",
    "del(aapl['Date'])\n",
    "del(aapl['Adj Close'])\n",
    "for param in range(0,20,2):\n",
    "    data2 = normal_perturbation(aapl, 0, param, 0.1).copy()\n",
    "    aapl_normal.append(random_forest(data2)[3])\n",
    "aapl_normal = aapl_normal - aapl_normal[0]\n",
    "fig, ax = plt.subplots()\n",
    "ax.scatter([i for i in range(0,20,2)], aapl_normal)\n",
    "print(sum(aapl_normal)/ len(aapl_normal))\n",
    "max(aapl_normal)"
   ]
  },
  {
   "cell_type": "code",
   "execution_count": 8,
   "metadata": {},
   "outputs": [
    {
     "name": "stdout",
     "output_type": "stream",
     "text": [
      "0.031026785714285698\n"
     ]
    },
    {
     "data": {
      "text/plain": [
       "0.0714285714285714"
      ]
     },
     "execution_count": 8,
     "metadata": {},
     "output_type": "execute_result"
    },
    {
     "data": {
      "image/png": "[encoded data removed]",
      "text/plain": [
       "<Figure size 504x324 with 1 Axes>"
      ]
     },
     "metadata": {
      "needs_background": "light"
     },
     "output_type": "display_data"
    }
   ],
   "source": [
    "aapl_exponential = []\n",
    "aapl = pd.read_csv('AAPL.csv')\n",
    "del(aapl['Date'])\n",
    "del(aapl['Adj Close'])\n",
    "for param in range(0,20,2):\n",
    "    data2 = exponential_perturbation(aapl, param, 0.1).copy()\n",
    "    aapl_exponential.append(random_forest(data2)[3])\n",
    "aapl_exponential = aapl_exponential - aapl_exponential[0]\n",
    "fig, ax = plt.subplots()\n",
    "ax.scatter([i for i in range(0,20,2)], aapl_exponential)\n",
    "print(sum(aapl_exponential)/ len(aapl_exponential))\n",
    "max(aapl_exponential)"
   ]
  },
  {
   "cell_type": "code",
   "execution_count": 9,
   "metadata": {},
   "outputs": [
    {
     "name": "stdout",
     "output_type": "stream",
     "text": [
      "-0.021428571428571463\n"
     ]
    },
    {
     "data": {
      "text/plain": [
       "0.017857142857142794"
      ]
     },
     "execution_count": 9,
     "metadata": {},
     "output_type": "execute_result"
    },
    {
     "data": {
      "image/png": "[encoded data removed]",
      "text/plain": [
       "<Figure size 504x324 with 1 Axes>"
      ]
     },
     "metadata": {
      "needs_background": "light"
     },
     "output_type": "display_data"
    }
   ],
   "source": [
    "aapl_uniform = []\n",
    "aapl = pd.read_csv('AAPL.csv')\n",
    "del(aapl['Date'])\n",
    "del(aapl['Adj Close'])\n",
    "for param in range(0,20,2):\n",
    "    data2 = uniform_perturbation(aapl, 0, param, 0.1).copy()\n",
    "    aapl_uniform.append(random_forest(data2)[3])\n",
    "aapl_uniform = aapl_uniform - aapl_uniform[0]\n",
    "fig, ax = plt.subplots()\n",
    "ax.scatter([i for i in range(0,20,2)], aapl_uniform)\n",
    "print(sum(aapl_uniform)/ len(aapl_uniform))\n",
    "max(aapl_uniform)"
   ]
  },
  {
   "cell_type": "code",
   "execution_count": 10,
   "metadata": {},
   "outputs": [
    {
     "name": "stdout",
     "output_type": "stream",
     "text": [
      "0.02656249999999998\n"
     ]
    },
    {
     "data": {
      "text/plain": [
       "0.06919642857142849"
      ]
     },
     "execution_count": 10,
     "metadata": {},
     "output_type": "execute_result"
    },
    {
     "data": {
      "image/png": "[encoded data removed]",
      "text/plain": [
       "<Figure size 504x324 with 1 Axes>"
      ]
     },
     "metadata": {
      "needs_background": "light"
     },
     "output_type": "display_data"
    }
   ],
   "source": [
    "amazon_normal = []\n",
    "amazon = pd.read_csv(\"AMZN.csv\")\n",
    "del(amazon['Date'])\n",
    "del(amazon['Adj Close'])\n",
    "for param in range(0,20,2):\n",
    "    data2 = normal_perturbation(amazon, 0, param, 0.1).copy()\n",
    "    amazon_normal.append(random_forest(data2)[3])\n",
    "amazon_normal = amazon_normal - amazon_normal[0]\n",
    "fig, ax = plt.subplots()\n",
    "ax.scatter([i for i in range(0,20,2)], amazon_normal)\n",
    "print(sum(amazon_normal)/ len(amazon_normal))\n",
    "max(amazon_normal)"
   ]
  },
  {
   "cell_type": "code",
   "execution_count": 11,
   "metadata": {
    "scrolled": true
   },
   "outputs": [
    {
     "name": "stdout",
     "output_type": "stream",
     "text": [
      "0.01941964285714287\n"
     ]
    },
    {
     "data": {
      "text/plain": [
       "0.0535714285714286"
      ]
     },
     "execution_count": 11,
     "metadata": {},
     "output_type": "execute_result"
    },
    {
     "data": {
      "image/png": "[encoded data removed]",
      "text/plain": [
       "<Figure size 504x324 with 1 Axes>"
      ]
     },
     "metadata": {
      "needs_background": "light"
     },
     "output_type": "display_data"
    }
   ],
   "source": [
    "amazon_exponential = []\n",
    "amazon = pd.read_csv(\"AMZN.csv\")\n",
    "del(amazon['Date'])\n",
    "del(amazon['Adj Close'])\n",
    "for param in range(0,20,2):\n",
    "    data2 = exponential_perturbation(amazon, param, 0.1).copy()\n",
    "    amazon_exponential.append(random_forest(data2)[3])\n",
    "amazon_exponential = amazon_exponential - amazon_exponential[0]\n",
    "fig, ax = plt.subplots()\n",
    "ax.scatter([i for i in range(0,20,2)], amazon_exponential)\n",
    "print(sum(amazon_exponential)/ len(amazon_exponential))\n",
    "max(amazon_exponential)"
   ]
  },
  {
   "cell_type": "code",
   "execution_count": 12,
   "metadata": {},
   "outputs": [
    {
     "name": "stdout",
     "output_type": "stream",
     "text": [
      "-0.001785714285714235\n"
     ]
    },
    {
     "data": {
      "text/plain": [
       "0.049107142857142905"
      ]
     },
     "execution_count": 12,
     "metadata": {},
     "output_type": "execute_result"
    },
    {
     "data": {
      "image/png": "[encoded data removed]",
      "text/plain": [
       "<Figure size 504x324 with 1 Axes>"
      ]
     },
     "metadata": {
      "needs_background": "light"
     },
     "output_type": "display_data"
    }
   ],
   "source": [
    "amazon_uniform = []\n",
    "amazon = pd.read_csv(\"AMZN.csv\")\n",
    "del(amazon['Date'])\n",
    "del(amazon['Adj Close'])\n",
    "for param in range(0,20,2):\n",
    "    data2 = uniform_perturbation(amazon, 0, param, 0.1).copy()\n",
    "    amazon_uniform.append(random_forest(data2)[3])\n",
    "amazon_uniform = amazon_uniform - amazon_uniform[0]\n",
    "fig, ax = plt.subplots()\n",
    "ax.scatter([i for i in range(0,20,2)], amazon_uniform)\n",
    "print(sum(amazon_uniform)/ len(amazon_uniform))\n",
    "max(amazon_uniform)"
   ]
  },
  {
   "cell_type": "code",
   "execution_count": 13,
   "metadata": {},
   "outputs": [
    {
     "name": "stdout",
     "output_type": "stream",
     "text": [
      "0.008035714285714235\n"
     ]
    },
    {
     "data": {
      "text/plain": [
       "0.033482142857142794"
      ]
     },
     "execution_count": 13,
     "metadata": {},
     "output_type": "execute_result"
    },
    {
     "data": {
      "image/png": "[encoded data removed]",
      "text/plain": [
       "<Figure size 504x324 with 1 Axes>"
      ]
     },
     "metadata": {
      "needs_background": "light"
     },
     "output_type": "display_data"
    }
   ],
   "source": [
    "microsoft_normal = []\n",
    "microsoft = pd.read_csv(\"MSFT.csv\")\n",
    "del(microsoft['Date'])\n",
    "del(microsoft['Adj Close'])\n",
    "for param in range(0,20,2):\n",
    "    data2 = normal_perturbation(microsoft, 0, param, 0.1).copy()\n",
    "    microsoft_normal.append(random_forest(data2)[3])\n",
    "microsoft_normal = microsoft_normal - microsoft_normal[0]\n",
    "fig, ax = plt.subplots()\n",
    "ax.scatter([i for i in range(0,20,2)], microsoft_normal)\n",
    "print(sum(microsoft_normal)/ len(microsoft_normal))\n",
    "max(microsoft_normal)"
   ]
  },
  {
   "cell_type": "code",
   "execution_count": 14,
   "metadata": {},
   "outputs": [
    {
     "name": "stdout",
     "output_type": "stream",
     "text": [
      "0.020982142857142873\n"
     ]
    },
    {
     "data": {
      "text/plain": [
       "0.0736607142857143"
      ]
     },
     "execution_count": 14,
     "metadata": {},
     "output_type": "execute_result"
    },
    {
     "data": {
      "image/png": "[encoded data removed]",
      "text/plain": [
       "<Figure size 504x324 with 1 Axes>"
      ]
     },
     "metadata": {
      "needs_background": "light"
     },
     "output_type": "display_data"
    }
   ],
   "source": [
    "microsoft_exponential = []\n",
    "microsoft = pd.read_csv(\"MSFT.csv\")\n",
    "del(microsoft['Date'])\n",
    "del(microsoft['Adj Close'])\n",
    "for param in range(0,20,2):\n",
    "    data2 = exponential_perturbation(microsoft, param, 0.1).copy()\n",
    "    microsoft_exponential.append(random_forest(data2)[3])\n",
    "microsoft_exponential = microsoft_exponential - microsoft_exponential[0]\n",
    "fig, ax = plt.subplots()\n",
    "ax.scatter([i for i in range(0,20,2)], microsoft_exponential)\n",
    "print(sum(microsoft_exponential)/ len(microsoft_exponential))\n",
    "max(microsoft_exponential)"
   ]
  },
  {
   "cell_type": "code",
   "execution_count": 15,
   "metadata": {},
   "outputs": [
    {
     "name": "stdout",
     "output_type": "stream",
     "text": [
      "-0.01808035714285715\n"
     ]
    },
    {
     "data": {
      "text/plain": [
       "0.008928571428571397"
      ]
     },
     "execution_count": 15,
     "metadata": {},
     "output_type": "execute_result"
    },
    {
     "data": {
      "image/png": "[encoded data removed]",
      "text/plain": [
       "<Figure size 504x324 with 1 Axes>"
      ]
     },
     "metadata": {
      "needs_background": "light"
     },
     "output_type": "display_data"
    }
   ],
   "source": [
    "microsoft_uniform = []\n",
    "microsoft = pd.read_csv(\"MSFT.csv\")\n",
    "del(microsoft['Date'])\n",
    "del(microsoft['Adj Close'])\n",
    "for param in range(0,20,2):\n",
    "    data2 = uniform_perturbation(microsoft, 0, param, 0.1).copy()\n",
    "    microsoft_uniform.append(random_forest(data2)[3])\n",
    "microsoft_uniform = microsoft_uniform - microsoft_uniform[0]\n",
    "fig, ax = plt.subplots()\n",
    "ax.scatter([i for i in range(0,20,2)], microsoft_uniform)\n",
    "print(sum(microsoft_uniform)/ len(microsoft_uniform))\n",
    "max(microsoft_uniform)"
   ]
  },
  {
   "cell_type": "code",
   "execution_count": null,
   "metadata": {},
   "outputs": [],
   "source": []
  }
 ],
 "metadata": {
  "kernelspec": {
   "display_name": "Python 3",
   "language": "python",
   "name": "python3"
  },
  "language_info": {
   "codemirror_mode": {
    "name": "ipython",
    "version": 3
   },
   "file_extension": ".py",
   "mimetype": "text/x-python",
   "name": "python",
   "nbconvert_exporter": "python",
   "pygments_lexer": "ipython3",
   "version": "3.8.8"
  }
 },
 "nbformat": 4,
 "nbformat_minor": 2
}
